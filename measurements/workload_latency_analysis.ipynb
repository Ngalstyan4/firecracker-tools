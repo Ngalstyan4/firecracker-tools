{
 "cells": [
  {
   "cell_type": "code",
   "execution_count": 152,
   "metadata": {},
   "outputs": [],
   "source": [
    "import numpy as np\n",
    "import matplotlib.pyplot as plt\n",
    "from matplotlib import colors\n",
    "from matplotlib.ticker import PercentFormatter\n",
    "plt.style.use('classic')\n",
    "%matplotlib inline"
   ]
  },
  {
   "cell_type": "code",
   "execution_count": 153,
   "metadata": {},
   "outputs": [],
   "source": [
    "# Microbenchmark Measurement Data\n",
    "json_kernel = np.loadtxt(fname = \"./data/json/kernel.log\")\n",
    "json_init = np.loadtxt(fname = \"./data/json/init.log\")\n",
    "json_fc = np.loadtxt(fname = \"./data/json/fc_setup.log\")\n",
    "json_import = np.loadtxt(fname = \"./data/json/import.log\")\n",
    "json_app = np.loadtxt(fname = \"./data/json/app.log\")\n",
    "\n",
    "base64_kernel = np.loadtxt(fname = \"./data/base64/kernel.log\")\n",
    "base64_init = np.loadtxt(fname = \"./data/base64/init.log\")\n",
    "base64_fc = np.loadtxt(fname = \"./data/base64/fc_setup.log\")\n",
    "base64_import = np.loadtxt(fname = \"./data/base64/import.log\")\n",
    "base64_app = np.loadtxt(fname = \"./data/base64/app.log\")\n",
    "\n",
    "http_kernel = np.loadtxt(fname = \"./data/http/kernel.log\")\n",
    "http_init = np.loadtxt(fname = \"./data/http/init.log\")\n",
    "http_fc = np.loadtxt(fname = \"./data/http/fc_setup.log\")\n",
    "http_import = np.loadtxt(fname = \"./data/http/import.log\")\n",
    "http_app = np.loadtxt(fname = \"./data/http/app.log\")\n",
    "\n",
    "primes_kernel = np.loadtxt(fname = \"./data/primes/kernel.log\")\n",
    "primes_init = np.loadtxt(fname = \"./data/primes/init.log\")\n",
    "primes_fc = np.loadtxt(fname = \"./data/primes/fc_setup.log\")\n",
    "primes_import = np.loadtxt(fname = \"./data/primes/import.log\")\n",
    "primes_app = np.loadtxt(fname = \"./data/primes/app.log\")\n",
    "\n",
    "markdown2html_kernel = np.loadtxt(fname = \"./data/markdown2html/kernel.log\")\n",
    "markdown2html_init = np.loadtxt(fname = \"./data/markdown2html/init.log\")\n",
    "markdown2html_fc = np.loadtxt(fname = \"./data/markdown2html/fc_setup.log\")\n",
    "markdown2html_import = np.loadtxt(fname = \"./data/markdown2html/import.log\")\n",
    "markdown2html_app = np.loadtxt(fname = \"./data/markdown2html/app.log\")\n",
    "\n",
    "sentiment_kernel = np.loadtxt(fname = \"./data/sentiment/kernel.log\")\n",
    "sentiment_init = np.loadtxt(fname = \"./data/sentiment/init.log\")\n",
    "sentiment_fc = np.loadtxt(fname = \"./data/sentiment/fc_setup.log\")\n",
    "sentiment_import = np.loadtxt(fname = \"./data/sentiment/import.log\")\n",
    "sentiment_app = np.loadtxt(fname = \"./data/sentiment/app.log\")"
   ]
  },
  {
   "cell_type": "code",
   "execution_count": 154,
   "metadata": {},
   "outputs": [
    {
     "data": {
      "text/plain": [
       "array([342., 377., 376., 367., 372., 372., 353., 371., 355., 367., 358.,\n",
       "       360., 351., 383., 340., 357., 352., 373., 334., 371., 353., 356.,\n",
       "       341., 356., 348., 353., 350., 353., 343., 374., 362., 362., 356.,\n",
       "       352., 345., 364., 336., 366., 349., 368., 349., 378., 372., 355.,\n",
       "       355., 377., 355., 357., 360., 353., 335., 374., 340., 363., 342.,\n",
       "       356., 376., 338., 353., 357., 352., 378., 341., 356., 332., 352.,\n",
       "       357., 343., 403., 361., 347., 362., 335., 344., 337., 353., 351.,\n",
       "       343., 341., 344., 354., 359., 362., 348., 338., 353., 341., 345.,\n",
       "       341., 344., 360., 382., 344., 375., 361., 350., 374., 368.])"
      ]
     },
     "execution_count": 154,
     "metadata": {},
     "output_type": "execute_result"
    }
   ],
   "source": [
    "json_import"
   ]
  },
  {
   "cell_type": "code",
   "execution_count": 155,
   "metadata": {},
   "outputs": [],
   "source": [
    "def check_size(kernel,init,fc_setup,im,app):\n",
    "    assert(len(kernel)==len(init)==len(fc_setup)==len(im)==len(app))"
   ]
  },
  {
   "cell_type": "code",
   "execution_count": 156,
   "metadata": {},
   "outputs": [],
   "source": [
    "def preprocess(kernel,init,im,app):\n",
    "    return kernel, init-kernel,  im-init,app-im"
   ]
  },
  {
   "cell_type": "code",
   "execution_count": 157,
   "metadata": {},
   "outputs": [],
   "source": [
    "check_size(json_kernel, json_init, json_fc, json_import, json_app)\n",
    "check_size(base64_kernel, base64_init, base64_fc, base64_import, base64_app)\n",
    "check_size(primes_kernel, primes_init, primes_fc, primes_import, primes_app)\n",
    "check_size(http_kernel, http_init, http_fc, http_import, http_app)\n",
    "check_size(markdown2html_kernel, markdown2html_init, markdown2html_fc, markdown2html_import, markdown2html_app)\n",
    "check_size(sentiment_kernel, sentiment_init, sentiment_fc, sentiment_import, sentiment_app)"
   ]
  },
  {
   "cell_type": "code",
   "execution_count": 158,
   "metadata": {},
   "outputs": [],
   "source": [
    "#json_app = json_app - json_import; json_import = json_import - json_unzip;json_unzip = json_unzip - json_init; json_init = json_init - json_kernel\n",
    "(json_kernel, json_init, json_import, json_app) = preprocess(json_kernel, json_init, json_import, json_app)\n",
    "(base64_kernel, base64_init, base64_import, base64_app) = preprocess(base64_kernel, base64_init, base64_import, base64_app)\n",
    "(primes_kernel, primes_init, primes_import, primes_app) = preprocess(primes_kernel, primes_init, primes_import, primes_app)\n",
    "(http_kernel, http_init, http_import, http_app) = preprocess(http_kernel, http_init, http_import, http_app)\n",
    "(markdown2html_kernel, markdown2html_init, markdown2html_import, markdown2html_app) = preprocess(markdown2html_kernel, markdown2html_init, markdown2html_import, markdown2html_app)\n",
    "(sentiment_kernel, sentiment_init, sentiment_import, sentiment_app) = preprocess(sentiment_kernel, sentiment_init, sentiment_import, sentiment_app)"
   ]
  },
  {
   "cell_type": "code",
   "execution_count": 159,
   "metadata": {},
   "outputs": [
    {
     "data": {
      "text/plain": [
       "array([446., 433., 443., 436., 446., 425., 414., 439., 443., 416., 450.,\n",
       "       420., 447., 425., 425., 449., 438., 431., 424., 417., 422., 435.,\n",
       "       439., 445., 445., 429., 419., 426., 434., 429., 427., 448., 440.,\n",
       "       430., 440., 433., 420., 446., 420., 435., 437., 416., 423., 422.,\n",
       "       432., 434., 451., 423., 435., 439., 422., 430., 425., 440., 444.,\n",
       "       435., 432., 448., 424., 437., 429., 452., 427., 435., 442., 418.,\n",
       "       435., 420., 433., 435., 435., 442., 425., 447., 440., 435., 416.,\n",
       "       429., 422., 443., 429., 443., 432., 431., 427., 440., 435., 440.,\n",
       "       434., 430., 414., 428., 445., 420., 447., 430.])"
      ]
     },
     "execution_count": 159,
     "metadata": {},
     "output_type": "execute_result"
    }
   ],
   "source": [
    "markdown2html_import"
   ]
  },
  {
   "cell_type": "code",
   "execution_count": 160,
   "metadata": {},
   "outputs": [],
   "source": [
    "fave = np.array([np.mean(json_fc), np.mean(base64_fc), np.mean(http_fc), np.mean(primes_fc), np.mean(markdown2html_fc), np.mean(sentiment_fc)])\n",
    "kave = np.array([np.mean(json_kernel), np.mean(base64_kernel), np.mean(http_kernel), np.mean(primes_kernel), np.mean(markdown2html_kernel), np.mean(sentiment_kernel)])\n",
    "iave = np.array([np.mean(json_init), np.mean(base64_init), np.mean(http_init), np.mean(primes_init), np.mean(markdown2html_init), np.mean(sentiment_init)])\n",
    "mave = np.array([np.mean(json_import), np.mean(base64_import), np.mean(http_import), np.mean(primes_import), np.mean(markdown2html_import), np.mean(sentiment_import)])\n",
    "aave = np.array([np.mean(json_app), np.mean(base64_app), np.mean(http_app), np.mean(primes_app), np.mean(markdown2html_app), np.mean(sentiment_app)])"
   ]
  },
  {
   "cell_type": "code",
   "execution_count": 163,
   "metadata": {},
   "outputs": [
    {
     "data": {
      "text/plain": [
       "array([18.60204082, 14.2020202 , 19.06      , 14.09      , 16.66666667,\n",
       "       16.35      ])"
      ]
     },
     "execution_count": 163,
     "metadata": {},
     "output_type": "execute_result"
    }
   ],
   "source": [
    "fave"
   ]
  },
  {
   "cell_type": "code",
   "execution_count": 191,
   "metadata": {},
   "outputs": [],
   "source": [
    "cwhite = '#fefaec'\n",
    "ccyan = '#a9eee6'\n",
    "cpurple = '#625772'\n",
    "cred = '#f38181'\n",
    "cgray = '#7A8B99'\n",
    "\n",
    "bar_width = 0.8\n",
    "title_fz = 22\n",
    "axis_fz = 18\n",
    "tick_fz = 12"
   ]
  },
  {
   "cell_type": "code",
   "execution_count": 193,
   "metadata": {
    "scrolled": false
   },
   "outputs": [
    {
     "data": {
      "image/png": "[encoded data removed]",
      "text/plain": [
       "<Figure size 720x432 with 1 Axes>"
      ]
     },
     "metadata": {},
     "output_type": "display_data"
    }
   ],
   "source": [
    "idx = ['json', 'base64','http-endpoint', 'primes', 'md2html','sentiment']\n",
    "ind = [x for x, _ in enumerate(idx)]\n",
    "plt.figure(figsize=(10,6))\n",
    "\n",
    "plt.bar(ind, aave, width=bar_width, label = 'app', color = cwhite, bottom = mave+iave+kave+fave)\n",
    "plt.bar(ind, mave, width=bar_width, label = 'imports', color = ccyan, bottom = iave+kave+fave)\n",
    "#plt.bar(ind, zave, width=0.6, label = 'unzip', color = 'green', bottom = iave+kave)\n",
    "plt.bar(ind, iave, width=bar_width, label = 'init', color = cpurple, bottom = kave+fave)\n",
    "plt.bar(ind, kave, width=bar_width, label = 'kernel', color = cred, bottom = fave)\n",
    "plt.bar(ind, fave, width=bar_width, label = 'fc-vmm', color = cgray)\n",
    "plt.xticks(ind, idx, fontsize=tick_fz)\n",
    "plt.ylabel(\"Start latency (ms)\", fontsize=axis_fz)\n",
    "plt.xlabel(\"Applications\", fontsize=axis_fz)\n",
    "plt.legend(loc = \"upper left\")\n",
    "plt.title(\"Function Latency Breakdown\", fontsize=title_fz)\n",
    "\n",
    "plt.show()"
   ]
  },
  {
   "cell_type": "code",
   "execution_count": null,
   "metadata": {},
   "outputs": [],
   "source": []
  }
 ],
 "metadata": {
  "kernelspec": {
   "display_name": "Python 3",
   "language": "python",
   "name": "python3"
  },
  "language_info": {
   "codemirror_mode": {
    "name": "ipython",
    "version": 3
   },
   "file_extension": ".py",
   "mimetype": "text/x-python",
   "name": "python",
   "nbconvert_exporter": "python",
   "pygments_lexer": "ipython3",
   "version": "3.6.5"
  }
 },
 "nbformat": 4,
 "nbformat_minor": 2
}
