{
 "cells": [
  {
   "cell_type": "code",
   "execution_count": 152,
   "metadata": {},
   "outputs": [],
   "source": [
    "import numpy as np\n",
    "import matplotlib.pyplot as plt\n",
    "from matplotlib import colors\n",
    "from matplotlib.ticker import PercentFormatter\n",
    "plt.style.use('classic')\n",
    "%matplotlib inline"
   ]
  },
  {
   "cell_type": "code",
   "execution_count": 153,
   "metadata": {},
   "outputs": [],
   "source": [
    "# Microbenchmark Measurement Data\n",
    "json_kernel = np.loadtxt(fname = \"./data/json/kernel.log\")\n",
    "json_init = np.loadtxt(fname = \"./data/json/init.log\")\n",
    "json_fc = np.loadtxt(fname = \"./data/json/fc_setup.log\")\n",
    "json_import = np.loadtxt(fname = \"./data/json/import.log\")\n",
    "json_app = np.loadtxt(fname = \"./data/json/app.log\")\n",
    "\n",
    "base64_kernel = np.loadtxt(fname = \"./data/base64/kernel.log\")\n",
    "base64_init = np.loadtxt(fname = \"./data/base64/init.log\")\n",
    "base64_fc = np.loadtxt(fname = \"./data/base64/fc_setup.log\")\n",
    "base64_import = np.loadtxt(fname = \"./data/base64/import.log\")\n",
    "base64_app = np.loadtxt(fname = \"./data/base64/app.log\")\n",
    "\n",
    "http_kernel = np.loadtxt(fname = \"./data/http/kernel.log\")\n",
    "http_init = np.loadtxt(fname = \"./data/http/init.log\")\n",
    "http_fc = np.loadtxt(fname = \"./data/http/fc_setup.log\")\n",
    "http_import = np.loadtxt(fname = \"./data/http/import.log\")\n",
    "http_app = np.loadtxt(fname = \"./data/http/app.log\")\n",
    "\n",
    "primes_kernel = np.loadtxt(fname = \"./data/primes/kernel.log\")\n",
    "primes_init = np.loadtxt(fname = \"./data/primes/init.log\")\n",
    "primes_fc = np.loadtxt(fname = \"./data/primes/fc_setup.log\")\n",
    "primes_import = np.loadtxt(fname = \"./data/primes/import.log\")\n",
    "primes_app = np.loadtxt(fname = \"./data/primes/app.log\")\n",
    "\n",
    "markdown2html_kernel = np.loadtxt(fname = \"./data/markdown2html/kernel.log\")\n",
    "markdown2html_init = np.loadtxt(fname = \"./data/markdown2html/init.log\")\n",
    "markdown2html_fc = np.loadtxt(fname = \"./data/markdown2html/fc_setup.log\")\n",
    "markdown2html_import = np.loadtxt(fname = \"./data/markdown2html/import.log\")\n",
    "markdown2html_app = np.loadtxt(fname = \"./data/markdown2html/app.log\")\n",
    "\n",
    "sentiment_kernel = np.loadtxt(fname = \"./data/sentiment/kernel.log\")\n",
    "sentiment_init = np.loadtxt(fname = \"./data/sentiment/init.log\")\n",
    "sentiment_fc = np.loadtxt(fname = \"./data/sentiment/fc_setup.log\")\n",
    "sentiment_import = np.loadtxt(fname = \"./data/sentiment/import.log\")\n",
    "sentiment_app = np.loadtxt(fname = \"./data/sentiment/app.log\")"
   ]
  },
  {
   "cell_type": "code",
   "execution_count": null,
   "metadata": {},
   "outputs": [],
   "source": []
  },
  {
   "cell_type": "code",
   "execution_count": 155,
   "metadata": {},
   "outputs": [],
   "source": [
    "def check_size(kernel,init,fc_setup,im,app):\n",
    "    assert(len(kernel)==len(init)==len(fc_setup)==len(im)==len(app))"
   ]
  },
  {
   "cell_type": "code",
   "execution_count": 156,
   "metadata": {},
   "outputs": [],
   "source": [
    "def preprocess(kernel,init,im,app):\n",
    "    return kernel, init-kernel,  im-init,app-im"
   ]
  },
  {
   "cell_type": "code",
   "execution_count": 157,
   "metadata": {},
   "outputs": [],
   "source": [
    "check_size(json_kernel, json_init, json_fc, json_import, json_app)\n",
    "check_size(base64_kernel, base64_init, base64_fc, base64_import, base64_app)\n",
    "check_size(primes_kernel, primes_init, primes_fc, primes_import, primes_app)\n",
    "check_size(http_kernel, http_init, http_fc, http_import, http_app)\n",
    "check_size(markdown2html_kernel, markdown2html_init, markdown2html_fc, markdown2html_import, markdown2html_app)\n",
    "check_size(sentiment_kernel, sentiment_init, sentiment_fc, sentiment_import, sentiment_app)"
   ]
  },
  {
   "cell_type": "code",
   "execution_count": 158,
   "metadata": {},
   "outputs": [],
   "source": [
    "#json_app = json_app - json_import; json_import = json_import - json_unzip;json_unzip = json_unzip - json_init; json_init = json_init - json_kernel\n",
    "(json_kernel, json_init, json_import, json_app) = preprocess(json_kernel, json_init, json_import, json_app)\n",
    "(base64_kernel, base64_init, base64_import, base64_app) = preprocess(base64_kernel, base64_init, base64_import, base64_app)\n",
    "(primes_kernel, primes_init, primes_import, primes_app) = preprocess(primes_kernel, primes_init, primes_import, primes_app)\n",
    "(http_kernel, http_init, http_import, http_app) = preprocess(http_kernel, http_init, http_import, http_app)\n",
    "(markdown2html_kernel, markdown2html_init, markdown2html_import, markdown2html_app) = preprocess(markdown2html_kernel, markdown2html_init, markdown2html_import, markdown2html_app)\n",
    "(sentiment_kernel, sentiment_init, sentiment_import, sentiment_app) = preprocess(sentiment_kernel, sentiment_init, sentiment_import, sentiment_app)"
   ]
  },
  {
   "cell_type": "code",
   "execution_count": null,
   "metadata": {},
   "outputs": [],
   "source": []
  },
  {
   "cell_type": "code",
   "execution_count": 160,
   "metadata": {},
   "outputs": [],
   "source": [
    "fave = np.array([np.mean(json_fc), np.mean(base64_fc), np.mean(http_fc), np.mean(primes_fc), np.mean(markdown2html_fc), np.mean(sentiment_fc)])\n",
    "kave = np.array([np.mean(json_kernel), np.mean(base64_kernel), np.mean(http_kernel), np.mean(primes_kernel), np.mean(markdown2html_kernel), np.mean(sentiment_kernel)])\n",
    "iave = np.array([np.mean(json_init), np.mean(base64_init), np.mean(http_init), np.mean(primes_init), np.mean(markdown2html_init), np.mean(sentiment_init)])\n",
    "mave = np.array([np.mean(json_import), np.mean(base64_import), np.mean(http_import), np.mean(primes_import), np.mean(markdown2html_import), np.mean(sentiment_import)])\n",
    "aave = np.array([np.mean(json_app), np.mean(base64_app), np.mean(http_app), np.mean(primes_app), np.mean(markdown2html_app), np.mean(sentiment_app)])"
   ]
  },
  {
   "cell_type": "code",
   "execution_count": null,
   "metadata": {},
   "outputs": [],
   "source": []
  },
  {
   "cell_type": "code",
   "execution_count": 191,
   "metadata": {},
   "outputs": [],
   "source": [
    "cwhite = '#fefaec'\n",
    "ccyan = '#a9eee6'\n",
    "cpurple = '#625772'\n",
    "cred = '#f38181'\n",
    "cgray = '#7A8B99'\n",
    "\n",
    "bar_width = 0.8\n",
    "title_fz = 22\n",
    "axis_fz = 18\n",
    "tick_fz = 12"
   ]
  },
  {
   "cell_type": "code",
   "execution_count": 193,
   "metadata": {
    "scrolled": false
   },
   "outputs": [
    {
     "data": {
      "image/png": "[encoded data removed]",
      "text/plain": [
       "<Figure size 720x432 with 1 Axes>"
      ]
     },
     "metadata": {},
     "output_type": "display_data"
    }
   ],
   "source": [
    "idx = ['json', 'base64','http-endpoint', 'primes', 'md2html','sentiment']\n",
    "ind = [x for x, _ in enumerate(idx)]\n",
    "plt.figure(figsize=(10,6))\n",
    "\n",
    "plt.bar(ind, aave, width=bar_width, label = 'app', color = cwhite, bottom = mave+iave+kave+fave)\n",
    "plt.bar(ind, mave, width=bar_width, label = 'imports', color = ccyan, bottom = iave+kave+fave)\n",
    "#plt.bar(ind, zave, width=0.6, label = 'unzip', color = 'green', bottom = iave+kave)\n",
    "plt.bar(ind, iave, width=bar_width, label = 'init', color = cpurple, bottom = kave+fave)\n",
    "plt.bar(ind, kave, width=bar_width, label = 'kernel', color = cred, bottom = fave)\n",
    "plt.bar(ind, fave, width=bar_width, label = 'fc-vmm', color = cgray)\n",
    "plt.xticks(ind, idx, fontsize=tick_fz)\n",
    "plt.ylabel(\"Start latency (ms)\", fontsize=axis_fz)\n",
    "plt.xlabel(\"Applications\", fontsize=axis_fz)\n",
    "plt.legend(loc = \"upper left\")\n",
    "plt.title(\"Function Latency Breakdown\", fontsize=title_fz)\n",
    "\n",
    "plt.show()"
   ]
  },
  {
   "cell_type": "markdown",
   "metadata": {},
   "source": [
    "### Aggregate results for system setup stages (i.e., fc-vmm, kernel and init):"
   ]
  },
  {
   "cell_type": "code",
   "execution_count": 200,
   "metadata": {},
   "outputs": [],
   "source": [
    "fc_all = np.concatenate((json_fc, base64_fc, http_fc, primes_fc, markdown2html_fc, sentiment_fc), axis=0)\n",
    "kernel_all = np.concatenate((json_kernel, base64_kernel, http_kernel, primes_kernel, markdown2html_kernel, sentiment_kernel), axis=0)\n",
    "init_all = np.concatenate((json_init, base64_init, http_init, primes_init, markdown2html_init, sentiment_init), axis=0)"
   ]
  },
  {
   "cell_type": "code",
   "execution_count": 211,
   "metadata": {},
   "outputs": [],
   "source": [
    "sys_setup_avg = np.array([np.mean(fc_all), np.mean(kernel_all), np.mean(init_all)])"
   ]
  },
  {
   "cell_type": "code",
   "execution_count": 212,
   "metadata": {},
   "outputs": [],
   "source": [
    "sys_setup_std = np.array([np.std(fc_all), np.std(kernel_all), np.std(init_all)])"
   ]
  },
  {
   "cell_type": "code",
   "execution_count": null,
   "metadata": {},
   "outputs": [],
   "source": []
  },
  {
   "cell_type": "code",
   "execution_count": 214,
   "metadata": {},
   "outputs": [
    {
     "data": {
      "image/png": "[encoded data removed]",
      "text/plain": [
       "<Figure size 720x432 with 1 Axes>"
      ]
     },
     "metadata": {},
     "output_type": "display_data"
    }
   ],
   "source": [
    "bar_width = 0.55\n",
    "idx = ['fc-vmm', 'kernel', 'init']\n",
    "ind = [x for x, _ in enumerate(idx)]\n",
    "plt.figure(figsize=(10,6))\n",
    "\n",
    "bars = plt.bar(ind, sys_setup_avg, yerr=sys_setup_std, width=bar_width)\n",
    "bars[0].set_color(cgray)\n",
    "bars[1].set_color(cred)\n",
    "bars[2].set_color(cpurple)\n",
    "plt.xticks(ind, idx, fontsize=tick_fz)\n",
    "plt.ylabel(\"Latency (ms)\", fontsize=axis_fz)\n",
    "plt.xlabel(\"Stages\", fontsize=axis_fz)\n",
    "plt.title(\"System Setup Latency\", fontsize=title_fz)\n",
    "\n",
    "plt.show()"
   ]
  },
  {
   "cell_type": "code",
   "execution_count": null,
   "metadata": {},
   "outputs": [],
   "source": []
  }
 ],
 "metadata": {
  "kernelspec": {
   "display_name": "Python 3",
   "language": "python",
   "name": "python3"
  },
  "language_info": {
   "codemirror_mode": {
    "name": "ipython",
    "version": 3
   },
   "file_extension": ".py",
   "mimetype": "text/x-python",
   "name": "python",
   "nbconvert_exporter": "python",
   "pygments_lexer": "ipython3",
   "version": "3.6.5"
  }
 },
 "nbformat": 4,
 "nbformat_minor": 2
}
