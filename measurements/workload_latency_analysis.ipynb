{
 "cells": [
  {
   "cell_type": "code",
   "execution_count": 242,
   "metadata": {},
   "outputs": [],
   "source": [
    "import numpy as np\n",
    "import matplotlib.pyplot as plt\n",
    "from matplotlib import colors\n",
    "from matplotlib.ticker import PercentFormatter\n",
    "plt.style.use('classic')\n",
    "%matplotlib inline"
   ]
  },
  {
   "cell_type": "code",
   "execution_count": 243,
   "metadata": {},
   "outputs": [],
   "source": [
    "# Microbenchmark Measurement Data\n",
    "\n",
    "json_fc = np.loadtxt(fname = \"./data/json/fc_setup.log\")\n",
    "json_kernel = np.loadtxt(fname = \"./data/json/kernel.log\")\n",
    "json_init = np.loadtxt(fname = \"./data/json/init.log\")\n",
    "json_python = np.loadtxt(fname = \"./data/json/python.log\")\n",
    "json_import = np.loadtxt(fname = \"./data/json/import.log\")\n",
    "json_app = np.loadtxt(fname = \"./data/json/app.log\")\n",
    "\n",
    "base64_fc = np.loadtxt(fname = \"./data/base64/fc_setup.log\")\n",
    "base64_kernel = np.loadtxt(fname = \"./data/base64/kernel.log\")\n",
    "base64_init = np.loadtxt(fname = \"./data/base64/init.log\")\n",
    "base64_python = np.loadtxt(fname = \"./data/base64/python.log\")\n",
    "base64_import = np.loadtxt(fname = \"./data/base64/import.log\")\n",
    "base64_app = np.loadtxt(fname = \"./data/base64/app.log\")\n",
    "\n",
    "http_fc = np.loadtxt(fname = \"./data/http/fc_setup.log\")\n",
    "http_kernel = np.loadtxt(fname = \"./data/http/kernel.log\")\n",
    "http_init = np.loadtxt(fname = \"./data/http/init.log\")\n",
    "http_python = np.loadtxt(fname = \"./data/http/python.log\")\n",
    "http_import = np.loadtxt(fname = \"./data/http/import.log\")\n",
    "http_app = np.loadtxt(fname = \"./data/http/app.log\")\n",
    "\n",
    "primes_fc = np.loadtxt(fname = \"./data/primes/fc_setup.log\")\n",
    "primes_kernel = np.loadtxt(fname = \"./data/primes/kernel.log\")\n",
    "primes_init = np.loadtxt(fname = \"./data/primes/init.log\")\n",
    "primes_python = np.loadtxt(fname = \"./data/primes/python.log\")\n",
    "primes_import = np.loadtxt(fname = \"./data/primes/import.log\")\n",
    "primes_app = np.loadtxt(fname = \"./data/primes/app.log\")\n",
    "\n",
    "markdown2html_fc = np.loadtxt(fname = \"./data/markdown2html/fc_setup.log\")\n",
    "markdown2html_kernel = np.loadtxt(fname = \"./data/markdown2html/kernel.log\")\n",
    "markdown2html_init = np.loadtxt(fname = \"./data/markdown2html/init.log\")\n",
    "markdown2html_python = np.loadtxt(fname = \"./data/markdown2html/python.log\")\n",
    "markdown2html_import = np.loadtxt(fname = \"./data/markdown2html/import.log\")\n",
    "markdown2html_app = np.loadtxt(fname = \"./data/markdown2html/app.log\")\n",
    "\n",
    "sentiment_fc = np.loadtxt(fname = \"./data/sentiment/fc_setup.log\")\n",
    "sentiment_kernel = np.loadtxt(fname = \"./data/sentiment/kernel.log\")\n",
    "sentiment_init = np.loadtxt(fname = \"./data/sentiment/init.log\")\n",
    "sentiment_python = np.loadtxt(fname = \"./data/sentiment/python.log\")\n",
    "sentiment_import = np.loadtxt(fname = \"./data/sentiment/import.log\")\n",
    "sentiment_app = np.loadtxt(fname = \"./data/sentiment/app.log\")"
   ]
  },
  {
   "cell_type": "code",
   "execution_count": null,
   "metadata": {},
   "outputs": [],
   "source": []
  },
  {
   "cell_type": "code",
   "execution_count": 244,
   "metadata": {},
   "outputs": [],
   "source": [
    "def check_size(fc_setup,kernel,init,py, im,app):\n",
    "    assert(len(fc_setup)==len(kernel)==len(init)==len(py)==len(im)==len(app))"
   ]
  },
  {
   "cell_type": "code",
   "execution_count": 245,
   "metadata": {},
   "outputs": [],
   "source": [
    "def preprocess(kernel,init,py, im,app):\n",
    "    return kernel, init-kernel,  py-init, im-py,app-im"
   ]
  },
  {
   "cell_type": "code",
   "execution_count": null,
   "metadata": {},
   "outputs": [],
   "source": []
  },
  {
   "cell_type": "code",
   "execution_count": 246,
   "metadata": {},
   "outputs": [],
   "source": [
    "check_size(json_fc, json_kernel, json_init, json_python, json_import, json_app)\n",
    "check_size(base64_fc, base64_kernel, base64_init, base64_python, base64_import, base64_app)\n",
    "check_size(primes_fc, primes_kernel, primes_init, primes_python, primes_import, primes_app)\n",
    "check_size(http_fc, http_kernel, http_init, http_python, http_import, http_app)\n",
    "check_size(markdown2html_fc, markdown2html_kernel, markdown2html_init, markdown2html_python, markdown2html_import, markdown2html_app)\n",
    "check_size(sentiment_fc, sentiment_kernel, sentiment_init, sentiment_python, sentiment_import, sentiment_app)"
   ]
  },
  {
   "cell_type": "code",
   "execution_count": 247,
   "metadata": {},
   "outputs": [],
   "source": [
    "#json_app = json_app - json_import; json_import = json_import - json_unzip;json_unzip = json_unzip - json_init; json_init = json_init - json_kernel\n",
    "(json_kernel, json_init, json_python, json_import, json_app) = preprocess(json_kernel, json_init, json_python, json_import, json_app)\n",
    "(base64_kernel, base64_init, base64_python, base64_import, base64_app) = preprocess(base64_kernel, base64_init, base64_python, base64_import, base64_app)\n",
    "(primes_kernel, primes_init, primes_python, primes_import, primes_app) = preprocess(primes_kernel, primes_init, primes_python, primes_import, primes_app)\n",
    "(http_kernel, http_init, http_python, http_import, http_app) = preprocess(http_kernel, http_init, http_python, http_import, http_app)\n",
    "(markdown2html_kernel, markdown2html_init, markdown2html_python, markdown2html_import, markdown2html_app) = preprocess(markdown2html_kernel, markdown2html_init, markdown2html_python, markdown2html_import, markdown2html_app)\n",
    "(sentiment_kernel, sentiment_init, sentiment_python, sentiment_import, sentiment_app) = preprocess(sentiment_kernel, sentiment_init,  sentiment_python, sentiment_import, sentiment_app)"
   ]
  },
  {
   "cell_type": "code",
   "execution_count": null,
   "metadata": {},
   "outputs": [],
   "source": []
  },
  {
   "cell_type": "code",
   "execution_count": 248,
   "metadata": {},
   "outputs": [],
   "source": [
    "fave = np.array([np.mean(json_fc), np.mean(base64_fc), np.mean(http_fc), np.mean(primes_fc), np.mean(markdown2html_fc), np.mean(sentiment_fc)])\n",
    "kave = np.array([np.mean(json_kernel), np.mean(base64_kernel), np.mean(http_kernel), np.mean(primes_kernel), np.mean(markdown2html_kernel), np.mean(sentiment_kernel)])\n",
    "iave = np.array([np.mean(json_init), np.mean(base64_init), np.mean(http_init), np.mean(primes_init), np.mean(markdown2html_init), np.mean(sentiment_init)])\n",
    "pave = np.array([np.mean(json_python), np.mean(base64_python), np.mean(http_python), np.mean(primes_python), np.mean(markdown2html_python), np.mean(sentiment_python)])\n",
    "mave = np.array([np.mean(json_import), np.mean(base64_import), np.mean(http_import), np.mean(primes_import), np.mean(markdown2html_import), np.mean(sentiment_import)])\n",
    "aave = np.array([np.mean(json_app), np.mean(base64_app), np.mean(http_app), np.mean(primes_app), np.mean(markdown2html_app), np.mean(sentiment_app)])"
   ]
  },
  {
   "cell_type": "code",
   "execution_count": null,
   "metadata": {},
   "outputs": [],
   "source": []
  },
  {
   "cell_type": "code",
   "execution_count": 249,
   "metadata": {},
   "outputs": [],
   "source": [
    "cwhite = '#fefaec'\n",
    "ccyan = '#a9eee6'\n",
    "cpurple = '#625772'\n",
    "cred = '#f38181'\n",
    "cgray = '#7A8B99'\n",
    "cbrown = '#BEB7A4'\n",
    "\n",
    "bar_width = 0.8\n",
    "title_fz = 22\n",
    "axis_fz = 18\n",
    "tick_fz = 12"
   ]
  },
  {
   "cell_type": "code",
   "execution_count": 250,
   "metadata": {
    "scrolled": false
   },
   "outputs": [
    {
     "data": {
      "image/png": "[encoded data removed]",
      "text/plain": [
       "<Figure size 720x432 with 1 Axes>"
      ]
     },
     "metadata": {},
     "output_type": "display_data"
    }
   ],
   "source": [
    "idx = ['json', 'base64','http-endpoint', 'primes', 'md2html','sentiment']\n",
    "ind = [x for x, _ in enumerate(idx)]\n",
    "plt.figure(figsize=(10,6))\n",
    "\n",
    "plt.bar(ind, aave, width=bar_width, label = 'app', color = cwhite, bottom = mave++pave+iave+kave+fave)\n",
    "plt.bar(ind, mave, width=bar_width, label = 'imports', color = ccyan, bottom = pave+iave+kave+fave)\n",
    "plt.bar(ind, pave, width=bar_width, label = 'python', color = cbrown, bottom = iave+kave+fave)\n",
    "plt.bar(ind, iave, width=bar_width, label = 'init', color = cpurple, bottom = kave+fave)\n",
    "plt.bar(ind, kave, width=bar_width, label = 'kernel', color = cred, bottom = fave)\n",
    "plt.bar(ind, fave, width=bar_width, label = 'fc-vmm', color = cgray)\n",
    "plt.xticks(ind, idx, fontsize=tick_fz)\n",
    "plt.ylabel(\"Start latency (ms)\", fontsize=axis_fz)\n",
    "plt.xlabel(\"Applications\", fontsize=axis_fz)\n",
    "plt.legend(loc = \"upper left\")\n",
    "plt.title(\"Function Latency Breakdown\", fontsize=title_fz)\n",
    "\n",
    "plt.show()"
   ]
  },
  {
   "cell_type": "markdown",
   "metadata": {},
   "source": [
    "### Aggregate results for system setup stages (i.e., fc-vmm, kernel and init):"
   ]
  },
  {
   "cell_type": "code",
   "execution_count": 251,
   "metadata": {},
   "outputs": [],
   "source": [
    "fc_all = np.concatenate((json_fc, base64_fc, http_fc, primes_fc, markdown2html_fc, sentiment_fc), axis=0)\n",
    "kernel_all = np.concatenate((json_kernel, base64_kernel, http_kernel, primes_kernel, markdown2html_kernel, sentiment_kernel), axis=0)\n",
    "init_all = np.concatenate((json_init, base64_init, http_init, primes_init, markdown2html_init, sentiment_init), axis=0)\n",
    "python_all = np.concatenate((json_python, base64_python, http_python, primes_python, markdown2html_python, sentiment_python), axis=0)"
   ]
  },
  {
   "cell_type": "code",
   "execution_count": 252,
   "metadata": {},
   "outputs": [],
   "source": [
    "sys_setup_avg = np.array([np.mean(fc_all), np.mean(kernel_all), np.mean(init_all), np.mean(python_all)])"
   ]
  },
  {
   "cell_type": "code",
   "execution_count": 253,
   "metadata": {},
   "outputs": [],
   "source": [
    "sys_setup_std = np.array([np.std(fc_all), np.std(kernel_all), np.std(init_all), np.std(python_all)])"
   ]
  },
  {
   "cell_type": "code",
   "execution_count": 256,
   "metadata": {},
   "outputs": [
    {
     "data": {
      "text/plain": [
       "array([ 16.3942953 , 155.59395973, 146.76174497,  46.06879195])"
      ]
     },
     "execution_count": 256,
     "metadata": {},
     "output_type": "execute_result"
    }
   ],
   "source": [
    "sys_setup_avg"
   ]
  },
  {
   "cell_type": "code",
   "execution_count": 255,
   "metadata": {},
   "outputs": [
    {
     "data": {
      "text/plain": [
       "array([2.86272639, 6.14775267, 6.32457758, 8.00903218])"
      ]
     },
     "execution_count": 255,
     "metadata": {},
     "output_type": "execute_result"
    }
   ],
   "source": [
    "sys_setup_std"
   ]
  },
  {
   "cell_type": "code",
   "execution_count": 254,
   "metadata": {},
   "outputs": [
    {
     "data": {
      "image/png": "[encoded data removed]",
      "text/plain": [
       "<Figure size 720x432 with 1 Axes>"
      ]
     },
     "metadata": {},
     "output_type": "display_data"
    }
   ],
   "source": [
    "bar_width = 0.55\n",
    "idx = ['fc-vmm', 'kernel', 'init', 'python']\n",
    "ind = [x for x, _ in enumerate(idx)]\n",
    "plt.figure(figsize=(10,6))\n",
    "\n",
    "bars = plt.bar(ind, sys_setup_avg, yerr=sys_setup_std, width=bar_width)\n",
    "bars[0].set_color(cgray)\n",
    "bars[1].set_color(cred)\n",
    "bars[2].set_color(cpurple)\n",
    "bars[3].set_color(cbrown)\n",
    "plt.xticks(ind, idx, fontsize=tick_fz)\n",
    "plt.ylabel(\"Latency (ms)\", fontsize=axis_fz)\n",
    "plt.xlabel(\"Stages\", fontsize=axis_fz)\n",
    "plt.title(\"System Setup Latency\", fontsize=title_fz)\n",
    "\n",
    "plt.show()"
   ]
  },
  {
   "cell_type": "code",
   "execution_count": null,
   "metadata": {},
   "outputs": [],
   "source": []
  }
 ],
 "metadata": {
  "kernelspec": {
   "display_name": "Python 3",
   "language": "python",
   "name": "python3"
  },
  "language_info": {
   "codemirror_mode": {
    "name": "ipython",
    "version": 3
   },
   "file_extension": ".py",
   "mimetype": "text/x-python",
   "name": "python",
   "nbconvert_exporter": "python",
   "pygments_lexer": "ipython3",
   "version": "3.6.5"
  }
 },
 "nbformat": 4,
 "nbformat_minor": 2
}
