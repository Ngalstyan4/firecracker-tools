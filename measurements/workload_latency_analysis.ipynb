{
 "cells": [
  {
   "cell_type": "code",
   "execution_count": 104,
   "metadata": {},
   "outputs": [],
   "source": [
    "import numpy as np\n",
    "import matplotlib.pyplot as plt\n",
    "from matplotlib import colors\n",
    "from matplotlib.ticker import PercentFormatter\n",
    "plt.style.use('ggplot')\n",
    "%matplotlib inline"
   ]
  },
  {
   "cell_type": "code",
   "execution_count": 108,
   "metadata": {},
   "outputs": [],
   "source": [
    "# Microbenchmark Measurement Data\n",
    "json_kernel = np.loadtxt(fname = \"./data/json/kernel.log\")\n",
    "json_init = np.loadtxt(fname = \"./data/json/init.log\")\n",
    "json_unzip = np.loadtxt(fname = \"./data/json/unzip.log\")\n",
    "json_import = np.loadtxt(fname = \"./data/json/import.log\")\n",
    "json_app = np.loadtxt(fname = \"./data/json/app.log\")\n",
    "\n",
    "base64_kernel = np.loadtxt(fname = \"./data/base64/kernel.log\")\n",
    "base64_init = np.loadtxt(fname = \"./data/base64/init.log\")\n",
    "base64_unzip = np.loadtxt(fname = \"./data/base64/unzip.log\")\n",
    "base64_import = np.loadtxt(fname = \"./data/base64/import.log\")\n",
    "base64_app = np.loadtxt(fname = \"./data/base64/app.log\")\n",
    "\n",
    "http_kernel = np.loadtxt(fname = \"./data/http/kernel.log\")\n",
    "http_init = np.loadtxt(fname = \"./data/http/init.log\")\n",
    "http_unzip = np.loadtxt(fname = \"./data/http/unzip.log\")\n",
    "http_import = np.loadtxt(fname = \"./data/http/import.log\")\n",
    "http_app = np.loadtxt(fname = \"./data/http/app.log\")\n",
    "\n",
    "primes_kernel = np.loadtxt(fname = \"./data/primes/kernel.log\")\n",
    "primes_init = np.loadtxt(fname = \"./data/primes/init.log\")\n",
    "primes_unzip = np.loadtxt(fname = \"./data/primes/unzip.log\")\n",
    "primes_import = np.loadtxt(fname = \"./data/primes/import.log\")\n",
    "primes_app = np.loadtxt(fname = \"./data/primes/app.log\")\n",
    "\n",
    "markdown2html_kernel = np.loadtxt(fname = \"./data/markdown2html/kernel.log\")\n",
    "markdown2html_init = np.loadtxt(fname = \"./data/markdown2html/init.log\")\n",
    "markdown2html_unzip = np.loadtxt(fname = \"./data/markdown2html/unzip.log\")\n",
    "markdown2html_import = np.loadtxt(fname = \"./data/markdown2html/import.log\")\n",
    "markdown2html_app = np.loadtxt(fname = \"./data/markdown2html/app.log\")\n",
    "\n",
    "sentiment_kernel = np.loadtxt(fname = \"./data/sentiment/kernel.log\")\n",
    "sentiment_init = np.loadtxt(fname = \"./data/sentiment/init.log\")\n",
    "sentiment_unzip = np.loadtxt(fname = \"./data/sentiment/unzip.log\")\n",
    "sentiment_import = np.loadtxt(fname = \"./data/sentiment/import.log\")\n",
    "sentiment_app = np.loadtxt(fname = \"./data/sentiment/app.log\")"
   ]
  },
  {
   "cell_type": "code",
   "execution_count": 109,
   "metadata": {},
   "outputs": [
    {
     "data": {
      "text/plain": [
       "array([418., 367., 351., 360., 345., 354., 352., 359., 354., 341., 361.,\n",
       "       368., 374., 348., 361., 368., 361., 371., 349., 365., 364., 354.,\n",
       "       353., 368., 377., 372., 345., 359., 371., 364., 337., 356., 354.,\n",
       "       356., 371., 371., 362., 371., 369., 359., 361., 360., 357., 372.,\n",
       "       348., 367., 368., 365., 354., 350., 365., 376., 364., 366., 363.,\n",
       "       343., 354., 355., 361., 374., 369., 350., 377., 353., 353., 379.,\n",
       "       369., 358., 395., 377., 353., 355., 375., 374., 369., 381., 367.,\n",
       "       380., 382., 366., 372., 367., 370., 357., 360., 363., 366., 375.,\n",
       "       340., 379., 363., 335., 380., 380., 361., 369., 359., 370., 353.,\n",
       "       339.])"
      ]
     },
     "execution_count": 109,
     "metadata": {},
     "output_type": "execute_result"
    }
   ],
   "source": [
    "json_import"
   ]
  },
  {
   "cell_type": "code",
   "execution_count": 110,
   "metadata": {},
   "outputs": [],
   "source": [
    "def check_size(kernel,init,unzip,im,app):\n",
    "    assert(len(kernel)==len(init)==len(unzip)==len(im)==len(app))"
   ]
  },
  {
   "cell_type": "code",
   "execution_count": 111,
   "metadata": {},
   "outputs": [],
   "source": [
    "def preprocess(kernel,init,unzip,im,app):\n",
    "    return kernel, init-kernel,  unzip-init,  im-unzip,app-im"
   ]
  },
  {
   "cell_type": "code",
   "execution_count": 112,
   "metadata": {},
   "outputs": [],
   "source": [
    "check_size(json_kernel, json_init, json_unzip, json_import, json_app)\n",
    "check_size(base64_kernel, base64_init, base64_unzip, base64_import, base64_app)\n",
    "check_size(primes_kernel, primes_init, primes_unzip, primes_import, primes_app)\n",
    "check_size(http_kernel, http_init, http_unzip, http_import, http_app)\n",
    "check_size(markdown2html_kernel, markdown2html_init, markdown2html_unzip, markdown2html_import, markdown2html_app)\n",
    "check_size(sentiment_kernel, sentiment_init, sentiment_unzip, sentiment_import, sentiment_app)"
   ]
  },
  {
   "cell_type": "code",
   "execution_count": 113,
   "metadata": {},
   "outputs": [],
   "source": [
    "#json_app = json_app - json_import; json_import = json_import - json_unzip;json_unzip = json_unzip - json_init; json_init = json_init - json_kernel\n",
    "(json_kernel, json_init, json_unzip, json_import, json_app) = preprocess(json_kernel, json_init, json_unzip, json_import, json_app)\n",
    "(base64_kernel, base64_init, base64_unzip, base64_import, base64_app) = preprocess(base64_kernel, base64_init, base64_unzip, base64_import, base64_app)\n",
    "(primes_kernel, primes_init, primes_unzip, primes_import, primes_app) = preprocess(primes_kernel, primes_init, primes_unzip, primes_import, primes_app)\n",
    "(http_kernel, http_init, http_unzip, http_import, http_app) = preprocess(http_kernel, http_init, http_unzip, http_import, http_app)\n",
    "(markdown2html_kernel, markdown2html_init, markdown2html_unzip, markdown2html_import, markdown2html_app) = preprocess(markdown2html_kernel, markdown2html_init, markdown2html_unzip, markdown2html_import, markdown2html_app)\n",
    "(sentiment_kernel, sentiment_init, sentiment_unzip, sentiment_import, sentiment_app) = preprocess(sentiment_kernel, sentiment_init, sentiment_unzip, sentiment_import, sentiment_app)"
   ]
  },
  {
   "cell_type": "code",
   "execution_count": 114,
   "metadata": {},
   "outputs": [
    {
     "data": {
      "text/plain": [
       "array([438., 436., 434., 445., 441., 438., 432., 440., 434., 442., 429.,\n",
       "       440., 441., 450., 437., 437., 440., 450., 451., 432., 444., 438.,\n",
       "       437., 433., 426., 433., 436., 436., 441., 421., 456., 439., 458.,\n",
       "       445., 460., 458., 461., 458., 436., 436., 432., 438., 434., 436.,\n",
       "       446., 567., 438., 443., 462., 429., 452., 434., 434., 436., 445.,\n",
       "       443., 431., 436., 436., 439., 446., 445., 436., 432., 443., 441.,\n",
       "       443., 434., 437., 438., 441., 438., 442., 450., 443., 444., 450.,\n",
       "       441., 447., 441., 457., 434., 431., 441., 433., 434., 435., 483.,\n",
       "       480., 447., 432., 454., 435., 433., 439., 440., 449., 443., 443.,\n",
       "       352.])"
      ]
     },
     "execution_count": 114,
     "metadata": {},
     "output_type": "execute_result"
    }
   ],
   "source": [
    "markdown2html_import"
   ]
  },
  {
   "cell_type": "code",
   "execution_count": 115,
   "metadata": {},
   "outputs": [],
   "source": [
    "kave = np.array([np.mean(json_kernel), np.mean(base64_kernel), np.mean(http_kernel), np.mean(primes_kernel), np.mean(markdown2html_kernel), np.mean(sentiment_kernel)])\n",
    "iave = np.array([np.mean(json_init), np.mean(base64_init), np.mean(http_init), np.mean(primes_init), np.mean(markdown2html_init), np.mean(sentiment_init)])\n",
    "zave = np.array([np.mean(json_unzip), np.mean(base64_unzip), np.mean(http_unzip), np.mean(primes_unzip), np.mean(markdown2html_unzip), np.mean(sentiment_unzip)])\n",
    "mave = np.array([np.mean(json_import), np.mean(base64_import), np.mean(http_import), np.mean(primes_import), np.mean(markdown2html_import), np.mean(sentiment_import)])\n",
    "aave = np.array([np.mean(json_app), np.mean(base64_app), np.mean(http_app), np.mean(primes_app), np.mean(markdown2html_app), np.mean(sentiment_app)])"
   ]
  },
  {
   "cell_type": "code",
   "execution_count": 116,
   "metadata": {},
   "outputs": [
    {
     "data": {
      "text/plain": [
       "array([4.27, 3.27, 3.89, 3.57, 4.51, 3.7 ])"
      ]
     },
     "execution_count": 116,
     "metadata": {},
     "output_type": "execute_result"
    }
   ],
   "source": [
    "zave"
   ]
  },
  {
   "cell_type": "code",
   "execution_count": 119,
   "metadata": {
    "scrolled": false
   },
   "outputs": [
    {
     "data": {
      "image/png": "[encoded data removed]",
      "text/plain": [
       "<Figure size 720x432 with 1 Axes>"
      ]
     },
     "metadata": {},
     "output_type": "display_data"
    }
   ],
   "source": [
    "idx = ['json', 'base64','http-endpoint', 'primes', 'markdown2html','sentiment']\n",
    "ind = [x for x, _ in enumerate(idx)]\n",
    "plt.figure(figsize=(10,6))\n",
    "\n",
    "plt.bar(ind, aave, width=0.6, label = 'app', color = 'b', bottom = mave+zave+iave+kave)\n",
    "plt.bar(ind, mave, width=0.6, label = 'imports', color = 'w', bottom = zave+iave+kave)\n",
    "plt.bar(ind, zave, width=0.6, label = 'unzip', color = 'green', bottom = iave+kave)\n",
    "plt.bar(ind, iave, width=0.6, label = 'init', color = 'gray', bottom = kave)\n",
    "plt.bar(ind, kave, width=0.6, label = 'kernel', color = 'gold')\n",
    "plt.xticks(ind, idx)\n",
    "plt.ylabel(\"Start latency (ms)\")\n",
    "plt.xlabel(\"Applications\")\n",
    "plt.legend(loc = \"upper left\")\n",
    "plt.title(\"Function latency breakdown\")\n",
    "\n",
    "plt.show()"
   ]
  },
  {
   "cell_type": "code",
   "execution_count": null,
   "metadata": {},
   "outputs": [],
   "source": []
  }
 ],
 "metadata": {
  "kernelspec": {
   "display_name": "Python 3",
   "language": "python",
   "name": "python3"
  },
  "language_info": {
   "codemirror_mode": {
    "name": "ipython",
    "version": 3
   },
   "file_extension": ".py",
   "mimetype": "text/x-python",
   "name": "python",
   "nbconvert_exporter": "python",
   "pygments_lexer": "ipython3",
   "version": "3.6.5"
  }
 },
 "nbformat": 4,
 "nbformat_minor": 2
}
