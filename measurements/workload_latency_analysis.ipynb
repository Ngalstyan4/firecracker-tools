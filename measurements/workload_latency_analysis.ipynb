{
 "cells": [
  {
   "cell_type": "code",
   "execution_count": 412,
   "metadata": {},
   "outputs": [],
   "source": [
    "import numpy as np\n",
    "import matplotlib.pyplot as plt\n",
    "from matplotlib import colors\n",
    "from matplotlib.ticker import PercentFormatter\n",
    "plt.style.use('classic')\n",
    "%matplotlib inline"
   ]
  },
  {
   "cell_type": "code",
   "execution_count": 413,
   "metadata": {},
   "outputs": [],
   "source": [
    "# Microbenchmark Measurement Data\n",
    "\n",
    "json_fc = np.loadtxt(fname = \"./data/json/fc_setup.log\")\n",
    "json_kernel = np.loadtxt(fname = \"./data/json/kernel.log\")\n",
    "json_init = np.loadtxt(fname = \"./data/json/init.log\")\n",
    "json_python = np.loadtxt(fname = \"./data/json/python.log\")\n",
    "json_import = np.loadtxt(fname = \"./data/json/import.log\")\n",
    "json_app = np.loadtxt(fname = \"./data/json/app.log\")\n",
    "\n",
    "base64_fc = np.loadtxt(fname = \"./data/base64/fc_setup.log\")\n",
    "base64_kernel = np.loadtxt(fname = \"./data/base64/kernel.log\")\n",
    "base64_init = np.loadtxt(fname = \"./data/base64/init.log\")\n",
    "base64_python = np.loadtxt(fname = \"./data/base64/python.log\")\n",
    "base64_import = np.loadtxt(fname = \"./data/base64/import.log\")\n",
    "base64_app = np.loadtxt(fname = \"./data/base64/app.log\")\n",
    "\n",
    "http_fc = np.loadtxt(fname = \"./data/http/fc_setup.log\")\n",
    "http_kernel = np.loadtxt(fname = \"./data/http/kernel.log\")\n",
    "http_init = np.loadtxt(fname = \"./data/http/init.log\")\n",
    "http_python = np.loadtxt(fname = \"./data/http/python.log\")\n",
    "http_import = np.loadtxt(fname = \"./data/http/import.log\")\n",
    "http_app = np.loadtxt(fname = \"./data/http/app.log\")\n",
    "\n",
    "primes_fc = np.loadtxt(fname = \"./data/primes/fc_setup.log\")\n",
    "primes_kernel = np.loadtxt(fname = \"./data/primes/kernel.log\")\n",
    "primes_init = np.loadtxt(fname = \"./data/primes/init.log\")\n",
    "primes_python = np.loadtxt(fname = \"./data/primes/python.log\")\n",
    "primes_import = np.loadtxt(fname = \"./data/primes/import.log\")\n",
    "primes_app = np.loadtxt(fname = \"./data/primes/app.log\")\n",
    "\n",
    "markdown2html_fc = np.loadtxt(fname = \"./data/markdown2html/fc_setup.log\")\n",
    "markdown2html_kernel = np.loadtxt(fname = \"./data/markdown2html/kernel.log\")\n",
    "markdown2html_init = np.loadtxt(fname = \"./data/markdown2html/init.log\")\n",
    "markdown2html_python = np.loadtxt(fname = \"./data/markdown2html/python.log\")\n",
    "markdown2html_import = np.loadtxt(fname = \"./data/markdown2html/import.log\")\n",
    "markdown2html_app = np.loadtxt(fname = \"./data/markdown2html/app.log\")\n",
    "\n",
    "sentiment_fc = np.loadtxt(fname = \"./data/sentiment/fc_setup.log\")\n",
    "sentiment_kernel = np.loadtxt(fname = \"./data/sentiment/kernel.log\")\n",
    "sentiment_init = np.loadtxt(fname = \"./data/sentiment/init.log\")\n",
    "sentiment_python = np.loadtxt(fname = \"./data/sentiment/python.log\")\n",
    "sentiment_import = np.loadtxt(fname = \"./data/sentiment/import.log\")\n",
    "sentiment_app = np.loadtxt(fname = \"./data/sentiment/app.log\")"
   ]
  },
  {
   "cell_type": "code",
   "execution_count": null,
   "metadata": {},
   "outputs": [],
   "source": []
  },
  {
   "cell_type": "code",
   "execution_count": 414,
   "metadata": {},
   "outputs": [],
   "source": [
    "def check_size(fc_setup,kernel,init,py, im,app):\n",
    "    assert(len(fc_setup)==len(kernel)==len(init)==len(py)==len(im)==len(app))"
   ]
  },
  {
   "cell_type": "code",
   "execution_count": 415,
   "metadata": {},
   "outputs": [],
   "source": [
    "def preprocess(kernel,init,py, im,app):\n",
    "    return kernel, init-kernel,  py-init, im-py,app-im"
   ]
  },
  {
   "cell_type": "code",
   "execution_count": null,
   "metadata": {},
   "outputs": [],
   "source": []
  },
  {
   "cell_type": "code",
   "execution_count": 416,
   "metadata": {},
   "outputs": [],
   "source": [
    "check_size(json_fc, json_kernel, json_init, json_python, json_import, json_app)\n",
    "check_size(base64_fc, base64_kernel, base64_init, base64_python, base64_import, base64_app)\n",
    "check_size(primes_fc, primes_kernel, primes_init, primes_python, primes_import, primes_app)\n",
    "check_size(http_fc, http_kernel, http_init, http_python, http_import, http_app)\n",
    "check_size(markdown2html_fc, markdown2html_kernel, markdown2html_init, markdown2html_python, markdown2html_import, markdown2html_app)\n",
    "check_size(sentiment_fc, sentiment_kernel, sentiment_init, sentiment_python, sentiment_import, sentiment_app)"
   ]
  },
  {
   "cell_type": "code",
   "execution_count": 417,
   "metadata": {},
   "outputs": [],
   "source": [
    "#json_app = json_app - json_import; json_import = json_import - json_unzip;json_unzip = json_unzip - json_init; json_init = json_init - json_kernel\n",
    "(json_kernel, json_init, json_python, json_import, json_app) = preprocess(json_kernel, json_init, json_python, json_import, json_app)\n",
    "(base64_kernel, base64_init, base64_python, base64_import, base64_app) = preprocess(base64_kernel, base64_init, base64_python, base64_import, base64_app)\n",
    "(primes_kernel, primes_init, primes_python, primes_import, primes_app) = preprocess(primes_kernel, primes_init, primes_python, primes_import, primes_app)\n",
    "(http_kernel, http_init, http_python, http_import, http_app) = preprocess(http_kernel, http_init, http_python, http_import, http_app)\n",
    "(markdown2html_kernel, markdown2html_init, markdown2html_python, markdown2html_import, markdown2html_app) = preprocess(markdown2html_kernel, markdown2html_init, markdown2html_python, markdown2html_import, markdown2html_app)\n",
    "(sentiment_kernel, sentiment_init, sentiment_python, sentiment_import, sentiment_app) = preprocess(sentiment_kernel, sentiment_init,  sentiment_python, sentiment_import, sentiment_app)"
   ]
  },
  {
   "cell_type": "code",
   "execution_count": null,
   "metadata": {},
   "outputs": [],
   "source": []
  },
  {
   "cell_type": "code",
   "execution_count": 418,
   "metadata": {},
   "outputs": [],
   "source": [
    "fave = np.array([np.mean(json_fc), np.mean(base64_fc), np.mean(http_fc), np.mean(primes_fc), np.mean(markdown2html_fc), np.mean(sentiment_fc)])\n",
    "kave = np.array([np.mean(json_kernel), np.mean(base64_kernel), np.mean(http_kernel), np.mean(primes_kernel), np.mean(markdown2html_kernel), np.mean(sentiment_kernel)])\n",
    "iave = np.array([np.mean(json_init), np.mean(base64_init), np.mean(http_init), np.mean(primes_init), np.mean(markdown2html_init), np.mean(sentiment_init)])\n",
    "pave = np.array([np.mean(json_python), np.mean(base64_python), np.mean(http_python), np.mean(primes_python), np.mean(markdown2html_python), np.mean(sentiment_python)])\n",
    "mave = np.array([np.mean(json_import), np.mean(base64_import), np.mean(http_import), np.mean(primes_import), np.mean(markdown2html_import), np.mean(sentiment_import)])\n",
    "aave = np.array([np.mean(json_app), np.mean(base64_app), np.mean(http_app), np.mean(primes_app), np.mean(markdown2html_app), np.mean(sentiment_app)])"
   ]
  },
  {
   "cell_type": "code",
   "execution_count": 419,
   "metadata": {},
   "outputs": [
    {
     "data": {
      "text/plain": [
       "array([  0.55619798,   2.91163184,   0.47707442, 171.86386328,\n",
       "         1.45137651,   2.52079353])"
      ]
     },
     "execution_count": 419,
     "metadata": {},
     "output_type": "execute_result"
    }
   ],
   "source": [
    "app_std = np.array([np.std(json_app), np.std(base64_app), np.std(http_app), np.std(primes_app), np.std(markdown2html_app), np.std(sentiment_app)])\n",
    "app_std"
   ]
  },
  {
   "cell_type": "code",
   "execution_count": 420,
   "metadata": {},
   "outputs": [
    {
     "data": {
      "text/plain": [
       "array([93.29973393, 22.16992769, 97.3116284 , 11.46197495, 44.6847001 ,\n",
       "       32.54040549])"
      ]
     },
     "execution_count": 420,
     "metadata": {},
     "output_type": "execute_result"
    }
   ],
   "source": [
    "sys_setup_pctg = (fave+kave+iave+pave)/(fave+kave+iave+pave+mave+aave)\n",
    "sys_setup_pctg = sys_setup_pctg*100\n",
    "sys_setup_pctg\n"
   ]
  },
  {
   "cell_type": "code",
   "execution_count": 421,
   "metadata": {},
   "outputs": [],
   "source": [
    "cwhite = '#fefaec'\n",
    "ccyan = '#a9eee6'\n",
    "cpurple = '#625772'\n",
    "cred = '#f38181'\n",
    "cgray = '#7A8B99'\n",
    "cbrown = '#BEB7A4'\n",
    "\n",
    "bar_width = 0.8\n",
    "title_fz = 22.0\n",
    "axis_fz = 18.0\n",
    "tick_fz = 12.0"
   ]
  },
  {
   "cell_type": "code",
   "execution_count": 422,
   "metadata": {},
   "outputs": [
    {
     "data": {
      "text/plain": [
       "0"
      ]
     },
     "execution_count": 422,
     "metadata": {},
     "output_type": "execute_result"
    }
   ],
   "source": [
    "6%6"
   ]
  },
  {
   "cell_type": "code",
   "execution_count": 423,
   "metadata": {
    "scrolled": false
   },
   "outputs": [
    {
     "data": {
      "image/png": "[encoded data removed]",
      "text/plain": [
       "<Figure size 720x432 with 1 Axes>"
      ]
     },
     "metadata": {},
     "output_type": "display_data"
    }
   ],
   "source": [
    "idx = ['json', 'base64','http-endpoint', 'primes', 'md2html','sentiment']\n",
    "ind = [x for x, _ in enumerate(idx)]\n",
    "plt.figure(figsize=(10,6))\n",
    "\n",
    "bar0 = plt.bar(ind, aave, yerr= app_std, width=bar_width, label = 'app', color = cwhite, bottom = mave++pave+iave+kave+fave)\n",
    "bar1 = plt.bar(ind, mave, width=bar_width, label = 'imports', color = ccyan, bottom = pave+iave+kave+fave)\n",
    "bar2 = plt.bar(ind, pave, width=bar_width, label = 'python', color = cbrown, bottom = iave+kave+fave)\n",
    "bar3 = plt.bar(ind, iave, width=bar_width, label = 'init', color = cpurple, bottom = kave+fave)\n",
    "bar4 = plt.bar(ind, kave, width=bar_width, label = 'kernel', color = cred, bottom = fave)\n",
    "bar5 = plt.bar(ind, fave, width=bar_width, label = 'fc-vmm', color = cgray)\n",
    "plt.xticks(ind, idx, fontsize=tick_fz)\n",
    "plt.ylabel(\"Start latency (ms)\", fontsize=axis_fz)\n",
    "plt.xlabel(\"Applications\", fontsize=axis_fz)\n",
    "plt.legend(loc = \"upper right\")\n",
    "plt.title(\"Function Latency Breakdown\", fontsize=title_fz)\n",
    "\n",
    "bars = bar0+bar1+bar2+bar3+bar4+bar5\n",
    "heights = np.zeros(6)\n",
    "for i in range(0, len(bars)):\n",
    "    heights[i%6] = heights[i%6]+bars[i].get_height()\n",
    "\n",
    "\n",
    "for num, rect in enumerate(bar0):\n",
    "    plt.text(rect.get_x() + rect.get_width()/2.0, heights[num]+20.0, '%.2f%%' % sys_setup_pctg[num], ha='center', va='bottom')\n",
    "\n",
    "plt.savefig('workload_latency.eps', format=\"eps\")\n",
    "#plt.savefig('workload_latency.png', dpi=600)\n",
    "#plt.show()\n"
   ]
  },
  {
   "cell_type": "code",
   "execution_count": null,
   "metadata": {},
   "outputs": [],
   "source": []
  },
  {
   "cell_type": "markdown",
   "metadata": {},
   "source": [
    "### Aggregate results for system setup stages (i.e., fc-vmm, kernel and init):"
   ]
  },
  {
   "cell_type": "code",
   "execution_count": 424,
   "metadata": {},
   "outputs": [],
   "source": [
    "fc_all = np.concatenate((json_fc, base64_fc, http_fc, primes_fc, markdown2html_fc, sentiment_fc), axis=0)\n",
    "kernel_all = np.concatenate((json_kernel, base64_kernel, http_kernel, primes_kernel, markdown2html_kernel, sentiment_kernel), axis=0)\n",
    "init_all = np.concatenate((json_init, base64_init, http_init, primes_init, markdown2html_init, sentiment_init), axis=0)\n",
    "python_all = np.concatenate((json_python, base64_python, http_python, primes_python, markdown2html_python, sentiment_python), axis=0)"
   ]
  },
  {
   "cell_type": "code",
   "execution_count": 425,
   "metadata": {},
   "outputs": [],
   "source": [
    "sys_setup_avg = np.array([np.mean(fc_all), np.mean(kernel_all), np.mean(init_all), np.mean(python_all)])"
   ]
  },
  {
   "cell_type": "code",
   "execution_count": 426,
   "metadata": {},
   "outputs": [],
   "source": [
    "sys_setup_std = np.array([np.std(fc_all), np.std(kernel_all), np.std(init_all), np.std(python_all)])"
   ]
  },
  {
   "cell_type": "code",
   "execution_count": 427,
   "metadata": {},
   "outputs": [
    {
     "data": {
      "text/plain": [
       "array([ 16.3942953 , 155.59395973, 146.76174497,  46.06879195])"
      ]
     },
     "execution_count": 427,
     "metadata": {},
     "output_type": "execute_result"
    }
   ],
   "source": [
    "sys_setup_avg"
   ]
  },
  {
   "cell_type": "code",
   "execution_count": 428,
   "metadata": {},
   "outputs": [
    {
     "data": {
      "text/plain": [
       "array([2.86272639, 6.14775267, 6.32457758, 8.00903218])"
      ]
     },
     "execution_count": 428,
     "metadata": {},
     "output_type": "execute_result"
    }
   ],
   "source": [
    "sys_setup_std"
   ]
  },
  {
   "cell_type": "code",
   "execution_count": 429,
   "metadata": {},
   "outputs": [
    {
     "data": {
      "image/png": "[encoded data removed]",
      "text/plain": [
       "<Figure size 720x432 with 1 Axes>"
      ]
     },
     "metadata": {},
     "output_type": "display_data"
    }
   ],
   "source": [
    "bar_width = 0.55\n",
    "idx = ['fc-vmm', 'kernel', 'init', 'python']\n",
    "ind = [x for x, _ in enumerate(idx)]\n",
    "plt.figure(figsize=(10,6))\n",
    "\n",
    "bars = plt.bar(ind, sys_setup_avg, yerr=sys_setup_std, width=bar_width)\n",
    "bars[0].set_color(cgray)\n",
    "bars[1].set_color(cred)\n",
    "bars[2].set_color(cpurple)\n",
    "bars[3].set_color(cbrown)\n",
    "plt.xticks(ind, idx, fontsize=tick_fz)\n",
    "plt.ylabel(\"Latency (ms)\", fontsize=axis_fz)\n",
    "plt.xlabel(\"Stages\", fontsize=axis_fz)\n",
    "plt.title(\"System Setup Latency\", fontsize=title_fz)\n",
    "\n",
    "#plt.savefig('sys_setup_latency_breakdown.png', dpi=600)\n",
    "plt.savefig('sys_setup_latency_breakdown.eps', format=\"eps\")\n",
    "#plt.show()"
   ]
  },
  {
   "cell_type": "markdown",
   "metadata": {},
   "source": [
    "### CDF"
   ]
  },
  {
   "cell_type": "code",
   "execution_count": 430,
   "metadata": {},
   "outputs": [],
   "source": [
    "sys_setup_all = fc_all+kernel_all+init_all+python_all\n"
   ]
  },
  {
   "cell_type": "code",
   "execution_count": 431,
   "metadata": {},
   "outputs": [
    {
     "data": {
      "image/png": "[encoded data removed]",
      "text/plain": [
       "<Figure size 576x288 with 1 Axes>"
      ]
     },
     "metadata": {},
     "output_type": "display_data"
    }
   ],
   "source": [
    "fig, ax = plt.subplots(figsize=(8, 4))\n",
    "# plot the cumulative histogram\n",
    "n, bins, patches = ax.hist(sys_setup_all, 500, density=True, histtype='step',\n",
    "                           cumulative=True, label='Empirical')\n",
    "ax.set_title('System setup latency CDF', fontsize=title_fz)\n",
    "ax.set_xlabel('Total system setup latency', fontsize=axis_fz)\n",
    "ax.set_ylabel('CDF', fontsize=axis_fz)\n",
    "plt.savefig('sys_setup_latency_cdf.png', dpi=600)"
   ]
  },
  {
   "cell_type": "code",
   "execution_count": null,
   "metadata": {},
   "outputs": [],
   "source": []
  },
  {
   "cell_type": "markdown",
   "metadata": {},
   "source": [
    "## ExCamera Measurement"
   ]
  },
  {
   "cell_type": "code",
   "execution_count": 471,
   "metadata": {},
   "outputs": [],
   "source": [
    "xc6f = [np.loadtxt(fname = \"./data/xc-6f/fc_setup.log\"), np.loadtxt(fname = \"./data/xc-6f/kernel.log\"), np.loadtxt(fname = \"./data/xc-6f/init.log\"), np.loadtxt(fname = \"./data/xc-6f/app.log\")]\n",
    "xc12f = [np.loadtxt(fname = \"./data/xc-12f/fc_setup.log\"), np.loadtxt(fname = \"./data/xc-12f/kernel.log\"), np.loadtxt(fname = \"./data/xc-12f/init.log\"), np.loadtxt(fname = \"./data/xc-12f/app.log\")]\n",
    "xc24f = [np.loadtxt(fname = \"./data/xc-24f/fc_setup.log\"), np.loadtxt(fname = \"./data/xc-24f/kernel.log\"), np.loadtxt(fname = \"./data/xc-24f/init.log\"), np.loadtxt(fname = \"./data/xc-24f/app.log\")]\n",
    "xc120f = [np.loadtxt(fname = \"./data/xc-120f/fc_setup.log\"), np.loadtxt(fname = \"./data/xc-120f/kernel.log\"), np.loadtxt(fname = \"./data/xc-120f/init.log\"), np.loadtxt(fname = \"./data/xc-120f/app.log\")]\n"
   ]
  },
  {
   "cell_type": "code",
   "execution_count": 472,
   "metadata": {},
   "outputs": [
    {
     "data": {
      "text/plain": [
       "[array([18., 15., 12., 11., 15., 12., 12., 12., 12., 14.]),\n",
       " array([139., 139., 135., 135., 135., 135., 136., 134., 135., 139.]),\n",
       " array([286., 289., 273., 283., 273., 281., 274., 274., 274., 285.]),\n",
       " array([2535., 2541., 2521., 2574., 2554., 2548., 2582., 2539., 2428.,\n",
       "        2521.])]"
      ]
     },
     "execution_count": 472,
     "metadata": {},
     "output_type": "execute_result"
    }
   ],
   "source": [
    "xc6f"
   ]
  },
  {
   "cell_type": "code",
   "execution_count": 473,
   "metadata": {},
   "outputs": [],
   "source": [
    "def preprocess_l(data):\n",
    "    for i in range(len(data)-1,1,-1):\n",
    "        data[i] = data[i] - data[i-1]\n",
    "    return data"
   ]
  },
  {
   "cell_type": "code",
   "execution_count": 474,
   "metadata": {},
   "outputs": [],
   "source": [
    "xc6f = preprocess_l(xc6f)\n",
    "xc12f = preprocess_l(xc12f)\n",
    "xc24f = preprocess_l(xc24f)\n",
    "xc120f = preprocess_l(xc120f)"
   ]
  },
  {
   "cell_type": "code",
   "execution_count": 475,
   "metadata": {},
   "outputs": [
    {
     "data": {
      "text/plain": [
       "[14.7, 137.4, 143.0, 5507.1]"
      ]
     },
     "execution_count": 475,
     "metadata": {},
     "output_type": "execute_result"
    }
   ],
   "source": [
    "xc6f_avg = list(map(np.mean, xc6f))\n",
    "xc12f_avg = list(map(np.mean, xc12f))\n",
    "xc24f_avg = list(map(np.mean, xc24f))\n",
    "xc120f_avg = list(map(np.mean, xc120f))\n",
    "xc24f_avg"
   ]
  },
  {
   "cell_type": "code",
   "execution_count": 476,
   "metadata": {},
   "outputs": [
    {
     "data": {
      "text/plain": [
       "array([48188.2,  5507.1,  4663.1,  2255.1])"
      ]
     },
     "execution_count": 476,
     "metadata": {},
     "output_type": "execute_result"
    }
   ],
   "source": [
    "xc_fcavg = np.array([xc120f_avg[0], xc24f_avg[0], xc12f_avg[0], xc6f_avg[0] ])\n",
    "xc_kavg = np.array([xc120f_avg[1], xc24f_avg[1], xc12f_avg[1], xc6f_avg[1] ])\n",
    "xc_iavg = np.array([xc120f_avg[2], xc24f_avg[2], xc12f_avg[2], xc6f_avg[2] ])\n",
    "xc_aavg = np.array([xc120f_avg[3], xc24f_avg[3], xc12f_avg[3], xc6f_avg[3] ])\n",
    "xc_aavg"
   ]
  },
  {
   "cell_type": "code",
   "execution_count": 477,
   "metadata": {},
   "outputs": [
    {
     "data": {
      "text/plain": [
       "array([6064.87997903, 1410.5224174 ,  120.33656967,   39.59911615])"
      ]
     },
     "execution_count": 477,
     "metadata": {},
     "output_type": "execute_result"
    }
   ],
   "source": [
    "xc_std = np.array([np.std(xc120f[3]), np.std(xc24f[3]),np.std(xc12f[3]),  np.std(xc6f[3])])\n",
    "xc_std"
   ]
  },
  {
   "cell_type": "code",
   "execution_count": 478,
   "metadata": {},
   "outputs": [
    {
     "data": {
      "text/plain": [
       "Text(0.5, 1.0, 'Function Latency Breakdown')"
      ]
     },
     "execution_count": 478,
     "metadata": {},
     "output_type": "execute_result"
    },
    {
     "data": {
      "image/png": "[encoded data removed]",
      "text/plain": [
       "<Figure size 720x432 with 1 Axes>"
      ]
     },
     "metadata": {},
     "output_type": "display_data"
    }
   ],
   "source": [
    "bar_width = 0.3\n",
    "\n",
    "idx = ['120 frames:10 threads', '24 frames:50 threads', '12 frames:100 threads', '6 frames:200 threads']\n",
    "ind = [x for x, _ in enumerate(idx)]\n",
    "plt.figure(figsize=(10,6))\n",
    "\n",
    "plt.bar(ind, xc_aavg,  yerr = xc_std, width=bar_width, label = 'app',color = cwhite, bottom = xc_iavg+xc_kavg+xc_fcavg)\n",
    "\n",
    "plt.bar(ind, xc_iavg, width=bar_width, label = 'init', color = cpurple, bottom = xc_kavg+xc_fcavg)\n",
    "plt.bar(ind, xc_kavg, width=bar_width, label = 'kernel', color = cred, bottom = xc_fcavg)\n",
    "plt.bar(ind, xc_fcavg, width=bar_width, label = 'fc-vmm', color = cgray)\n",
    "plt.xticks(ind, idx, fontsize=tick_fz)\n",
    "plt.ylabel(\"Start latency (ms)\", fontsize=axis_fz)\n",
    "plt.xlabel(\"Applications\", fontsize=axis_fz)\n",
    "plt.legend(loc = \"upper right\")\n",
    "plt.title(\"Function Latency Breakdown\", fontsize=title_fz)\n",
    "\n",
    "#plt.show()"
   ]
  },
  {
   "cell_type": "code",
   "execution_count": 479,
   "metadata": {},
   "outputs": [],
   "source": [
    "xc_fcavg = np.array([xc24f_avg[0], xc12f_avg[0], xc6f_avg[0] ])\n",
    "xc_kavg = np.array([xc24f_avg[1], xc12f_avg[1], xc6f_avg[1] ])\n",
    "xc_iavg = np.array([xc24f_avg[2], xc12f_avg[2], xc6f_avg[2] ])\n",
    "xc_aavg = np.array([xc24f_avg[3], xc12f_avg[3], xc6f_avg[3] ])\n",
    "\n",
    "sys_pctg = (xc_fcavg+xc_kavg+xc_iavg)/(xc_fcavg+xc_kavg+xc_iavg+xc_aavg)\n",
    "sys_pctg = sys_pctg * 100\n",
    "\n",
    "xc_std = np.array([np.std(xc24f[3]),np.std(xc12f[3]),  np.std(xc6f[3])])\n",
    "xc_std\n",
    "sys_pctg_std = sys_pctg - (xc_fcavg+xc_kavg+xc_iavg)/(xc_fcavg+xc_kavg+xc_iavg+xc_aavg+xc_std)*100\n"
   ]
  },
  {
   "cell_type": "code",
   "execution_count": null,
   "metadata": {},
   "outputs": [],
   "source": []
  },
  {
   "cell_type": "code",
   "execution_count": 481,
   "metadata": {},
   "outputs": [
    {
     "data": {
      "text/plain": [
       "array([ 5.08600186,  6.02946214, 11.48139425])"
      ]
     },
     "execution_count": 481,
     "metadata": {},
     "output_type": "execute_result"
    }
   ],
   "source": [
    "sys_pctg"
   ]
  },
  {
   "cell_type": "code",
   "execution_count": 482,
   "metadata": {},
   "outputs": [
    {
     "data": {
      "text/plain": [
       "array([0.99462023, 0.14275362, 0.17573176])"
      ]
     },
     "execution_count": 482,
     "metadata": {},
     "output_type": "execute_result"
    }
   ],
   "source": [
    "sys_pctg_std"
   ]
  },
  {
   "cell_type": "code",
   "execution_count": 483,
   "metadata": {},
   "outputs": [
    {
     "data": {
      "image/png": "[encoded data removed]",
      "text/plain": [
       "<Figure size 720x432 with 2 Axes>"
      ]
     },
     "metadata": {},
     "output_type": "display_data"
    }
   ],
   "source": [
    "bar_width = 0.3\n",
    "\n",
    "idx = ['24 frames:50 threads', '12 frames:100 threads', '6 frames:200 threads']\n",
    "ind = [x for x, _ in enumerate(idx)]\n",
    "plt.figure(figsize=(10,6))\n",
    "\n",
    "plt.bar(ind, xc_aavg, yerr = xc_std, width=bar_width, label = 'app', color = cwhite, bottom = xc_iavg+xc_kavg+xc_fcavg)\n",
    "\n",
    "plt.bar(ind, xc_iavg, width=bar_width, label = 'init', color = cpurple, bottom = xc_kavg+xc_fcavg)\n",
    "plt.bar(ind, xc_kavg, width=bar_width, label = 'kernel', color = cred, bottom = xc_fcavg)\n",
    "plt.bar(ind, xc_fcavg, width=bar_width, label = 'fc-vmm', color = cgray)\n",
    "plt.xticks(ind, idx, fontsize=tick_fz)\n",
    "plt.ylabel(\"Start latency (ms)\", fontsize=axis_fz)\n",
    "plt.xlabel(\"Applications\", fontsize=axis_fz)\n",
    "plt.legend(loc = \"upper right\")\n",
    "plt.title(\"Function Latency Breakdown\", fontsize=title_fz)\n",
    "\n",
    "\n",
    "\n",
    "axes2 = plt.twinx()\n",
    "axes2.errorbar(ind, sys_pctg, yerr = sys_pctg_std, color='k')\n",
    "axes2.set_ylim(0, 20)\n",
    "axes2.set_xlim(-0.2, 2.2)\n",
    "axes2.set_ylabel('System Setup Time (%)', fontsize=axis_fz)\n",
    "axes2.yaxis.set_major_formatter(PercentFormatter())\n",
    "#plt.savefig('xc_latency_breakdown.png', dpi=600)\n",
    "plt.savefig('xc_latency.eps', format=\"eps\")\n",
    "#plt.show()"
   ]
  },
  {
   "cell_type": "code",
   "execution_count": null,
   "metadata": {},
   "outputs": [],
   "source": []
  },
  {
   "cell_type": "code",
   "execution_count": null,
   "metadata": {},
   "outputs": [],
   "source": []
  },
  {
   "cell_type": "code",
   "execution_count": null,
   "metadata": {},
   "outputs": [],
   "source": []
  },
  {
   "cell_type": "code",
   "execution_count": null,
   "metadata": {},
   "outputs": [],
   "source": []
  },
  {
   "cell_type": "code",
   "execution_count": null,
   "metadata": {},
   "outputs": [],
   "source": []
  },
  {
   "cell_type": "code",
   "execution_count": null,
   "metadata": {},
   "outputs": [],
   "source": []
  }
 ],
 "metadata": {
  "kernelspec": {
   "display_name": "Python 3",
   "language": "python",
   "name": "python3"
  },
  "language_info": {
   "codemirror_mode": {
    "name": "ipython",
    "version": 3
   },
   "file_extension": ".py",
   "mimetype": "text/x-python",
   "name": "python",
   "nbconvert_exporter": "python",
   "pygments_lexer": "ipython3",
   "version": "3.6.5"
  }
 },
 "nbformat": 4,
 "nbformat_minor": 2
}
